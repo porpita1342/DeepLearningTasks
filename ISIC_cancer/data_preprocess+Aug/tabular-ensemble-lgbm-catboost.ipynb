{
 "cells": [
  {
   "cell_type": "markdown",
   "id": "9a20c07c",
   "metadata": {
    "papermill": {
     "duration": 0.007895,
     "end_time": "2024-07-20T11:39:30.899251",
     "exception": false,
     "start_time": "2024-07-20T11:39:30.891356",
     "status": "completed"
    },
    "tags": []
   },
   "source": [
    "In my previous work [here](https://www.kaggle.com/code/snnclsr/lgbm-baseline-with-new-features), I showed the effectiveness of additional tabular features. Since there are not enough positive samples, every bit of contribution will be important in the final stage.\n",
    "\n",
    "With that motivation, I want to show how ensembles are useful in predictions.\n",
    "\n",
    "**Edit:** New version adds two image model predictions from here: https://www.kaggle.com/code/motono0223/isic-tabular-model-image-model-features and one from my own model (augmentations used [here](https://www.kaggle.com/code/snnclsr/image-augmentations-from-winning-solutions))."
   ]
  },
  {
   "cell_type": "code",
   "execution_count": 1,
   "id": "a6cc142a",
   "metadata": {
    "execution": {
     "iopub.execute_input": "2024-07-20T11:39:30.915346Z",
     "iopub.status.busy": "2024-07-20T11:39:30.915032Z",
     "iopub.status.idle": "2024-07-20T11:39:30.926267Z",
     "shell.execute_reply": "2024-07-20T11:39:30.925594Z"
    },
    "papermill": {
     "duration": 0.02146,
     "end_time": "2024-07-20T11:39:30.928166",
     "exception": false,
     "start_time": "2024-07-20T11:39:30.906706",
     "status": "completed"
    },
    "tags": []
   },
   "outputs": [],
   "source": [
    "NO_RUN = False\n",
    "\n",
    "import os\n",
    "\n",
    "if NO_RUN and not os.getenv('KAGGLE_IS_COMPETITION_RERUN'):\n",
    "    # To save some time.\n",
    "    import pandas as pd\n",
    "    df_sub = pd.read_csv(\"/kaggle/input/isic-2024-challenge/sample_submission.csv\")\n",
    "    df_sub.to_csv(\"submission.csv\", index=False)\n",
    "    exit(0)"
   ]
  },
  {
   "cell_type": "markdown",
   "id": "89c791c3",
   "metadata": {
    "papermill": {
     "duration": 0.007358,
     "end_time": "2024-07-20T11:39:30.942963",
     "exception": false,
     "start_time": "2024-07-20T11:39:30.935605",
     "status": "completed"
    },
    "tags": []
   },
   "source": [
    "# Imports"
   ]
  },
  {
   "cell_type": "code",
   "execution_count": 2,
   "id": "d7fdac9e",
   "metadata": {
    "execution": {
     "iopub.execute_input": "2024-07-20T11:39:30.959136Z",
     "iopub.status.busy": "2024-07-20T11:39:30.958898Z",
     "iopub.status.idle": "2024-07-20T11:39:36.546208Z",
     "shell.execute_reply": "2024-07-20T11:39:36.545429Z"
    },
    "papermill": {
     "duration": 5.597881,
     "end_time": "2024-07-20T11:39:36.548568",
     "exception": false,
     "start_time": "2024-07-20T11:39:30.950687",
     "status": "completed"
    },
    "tags": []
   },
   "outputs": [],
   "source": [
    "import numpy as np\n",
    "import pandas as pd\n",
    "import pandas.api.types\n",
    "import matplotlib.pyplot as plt\n",
    "\n",
    "from sklearn.preprocessing import OrdinalEncoder\n",
    "from sklearn.metrics import roc_curve, auc, roc_auc_score\n",
    "from sklearn.model_selection import GroupKFold, StratifiedGroupKFold\n",
    "from sklearn.ensemble import VotingClassifier\n",
    "\n",
    "import optuna\n",
    "import catboost as cb\n",
    "import lightgbm as lgb\n",
    "import xgboost as xgb\n",
    "\n",
    "OPTIMIZE_OPTUNA = False\n",
    "SUBSAMPLE = False\n",
    "SUBSAMPLE_RATIO = 0.5 # only effective if SUBSAMPLE=True\n",
    "DISPLAY_FEATURE_IMPORTANCE = False"
   ]
  },
  {
   "cell_type": "markdown",
   "id": "7c26fecb",
   "metadata": {
    "papermill": {
     "duration": 0.007318,
     "end_time": "2024-07-20T11:39:36.563758",
     "exception": false,
     "start_time": "2024-07-20T11:39:36.556440",
     "status": "completed"
    },
    "tags": []
   },
   "source": [
    "## Generating the image level predictions"
   ]
  },
  {
   "cell_type": "code",
   "execution_count": 3,
   "id": "e99c5de0",
   "metadata": {
    "execution": {
     "iopub.execute_input": "2024-07-20T11:39:36.580251Z",
     "iopub.status.busy": "2024-07-20T11:39:36.579735Z",
     "iopub.status.idle": "2024-07-20T11:39:49.410210Z",
     "shell.execute_reply": "2024-07-20T11:39:49.409106Z"
    },
    "papermill": {
     "duration": 12.841312,
     "end_time": "2024-07-20T11:39:49.412519",
     "exception": false,
     "start_time": "2024-07-20T11:39:36.571207",
     "status": "completed"
    },
    "tags": []
   },
   "outputs": [
    {
     "name": "stdout",
     "output_type": "stream",
     "text": [
      "BEST_WEIGHT = /kaggle/input/isic-pytorch-training-baseline-image-only/AUROC0.5171_Loss0.3476_epoch35.bin\r\n",
      "100%|█████████████████████████████████████████████| 1/1 [00:00<00:00,  1.18it/s]\r\n"
     ]
    }
   ],
   "source": [
    "!python /kaggle/input/isic-script-inference-effnetv1b0-f313ae/main.py /kaggle/input/isic-pytorch-training-baseline-image-only/AUROC0.5171_Loss0.3476_epoch35.bin\n",
    "!mv submission.csv submission_effnetv1b0.csv"
   ]
  },
  {
   "cell_type": "code",
   "execution_count": 4,
   "id": "8823bc12",
   "metadata": {
    "execution": {
     "iopub.execute_input": "2024-07-20T11:39:49.431056Z",
     "iopub.status.busy": "2024-07-20T11:39:49.430758Z",
     "iopub.status.idle": "2024-07-20T11:39:59.586965Z",
     "shell.execute_reply": "2024-07-20T11:39:59.585581Z"
    },
    "papermill": {
     "duration": 10.168708,
     "end_time": "2024-07-20T11:39:59.589437",
     "exception": false,
     "start_time": "2024-07-20T11:39:49.420729",
     "status": "completed"
    },
    "tags": []
   },
   "outputs": [
    {
     "name": "stdout",
     "output_type": "stream",
     "text": [
      "BEST_WEIGHT = /kaggle/input/isic-pytorch-training-baseline-eva02/AUROC0.5177_Loss0.2829_epoch7.bin\r\n",
      "100%|█████████████████████████████████████████████| 1/1 [00:00<00:00,  2.83it/s]\r\n"
     ]
    }
   ],
   "source": [
    "!python /kaggle/input/isic-script-inference-eva02/main.py /kaggle/input/isic-pytorch-training-baseline-eva02/AUROC0.5177_Loss0.2829_epoch7.bin\n",
    "!mv submission.csv submission_eva02.csv"
   ]
  },
  {
   "cell_type": "code",
   "execution_count": 5,
   "id": "02c16d01",
   "metadata": {
    "execution": {
     "iopub.execute_input": "2024-07-20T11:39:59.607573Z",
     "iopub.status.busy": "2024-07-20T11:39:59.607200Z",
     "iopub.status.idle": "2024-07-20T11:40:19.365257Z",
     "shell.execute_reply": "2024-07-20T11:40:19.363931Z"
    },
    "papermill": {
     "duration": 19.769789,
     "end_time": "2024-07-20T11:40:19.367653",
     "exception": false,
     "start_time": "2024-07-20T11:39:59.597864",
     "status": "completed"
    },
    "tags": []
   },
   "outputs": [
    {
     "name": "stdout",
     "output_type": "stream",
     "text": [
      "/kaggle/input/isic-2024-pl-submission-script-and-preds/pl_submission.py:25: DtypeWarning: Columns (51,52) have mixed types. Specify dtype option on import or set low_memory=False.\r\n",
      "  df_train_meta = pd.read_csv(BASE_DATA_DIR + \"train-metadata.csv\")\r\n"
     ]
    }
   ],
   "source": [
    "# My model\n",
    "!python /kaggle/input/isic-2024-pl-submission-script-and-preds/pl_submission.py\n",
    "!mv submission.csv submission_image3.csv"
   ]
  },
  {
   "cell_type": "markdown",
   "id": "525fb136",
   "metadata": {
    "papermill": {
     "duration": 0.008224,
     "end_time": "2024-07-20T11:40:19.384408",
     "exception": false,
     "start_time": "2024-07-20T11:40:19.376184",
     "status": "completed"
    },
    "tags": []
   },
   "source": [
    "# Feature Engineering"
   ]
  },
  {
   "cell_type": "code",
   "execution_count": 6,
   "id": "186223b3",
   "metadata": {
    "execution": {
     "iopub.execute_input": "2024-07-20T11:40:19.402666Z",
     "iopub.status.busy": "2024-07-20T11:40:19.402330Z",
     "iopub.status.idle": "2024-07-20T11:40:39.619501Z",
     "shell.execute_reply": "2024-07-20T11:40:39.618716Z"
    },
    "papermill": {
     "duration": 20.229305,
     "end_time": "2024-07-20T11:40:39.621907",
     "exception": false,
     "start_time": "2024-07-20T11:40:19.392602",
     "status": "completed"
    },
    "tags": []
   },
   "outputs": [
    {
     "name": "stderr",
     "output_type": "stream",
     "text": [
      "/tmp/ipykernel_24/3802736947.py:1: DtypeWarning: Columns (51,52) have mixed types. Specify dtype option on import or set low_memory=False.\n",
      "  df_train = pd.read_csv(\"/kaggle/input/isic-2024-challenge/train-metadata.csv\")\n",
      "/tmp/ipykernel_24/3802736947.py:88: DtypeWarning: Columns (51,52) have mixed types. Specify dtype option on import or set low_memory=False.\n",
      "  df_eff = pd.read_csv(\"/kaggle/input/isic-inference-effnetv1b0-for-training-data/train_effnetv1b0.csv\")\n",
      "/tmp/ipykernel_24/3802736947.py:91: DtypeWarning: Columns (51,52) have mixed types. Specify dtype option on import or set low_memory=False.\n",
      "  df_eva = pd.read_csv(\"/kaggle/input/isic-inference-eva02-for-training-data/train_eva02.csv\")\n"
     ]
    }
   ],
   "source": [
    "df_train = pd.read_csv(\"/kaggle/input/isic-2024-challenge/train-metadata.csv\")\n",
    "df_test = pd.read_csv(\"/kaggle/input/isic-2024-challenge/test-metadata.csv\")\n",
    "\n",
    "def feature_engineering(df):\n",
    "    # New features to try...\n",
    "    df[\"lesion_size_ratio\"] = df[\"tbp_lv_minorAxisMM\"] / df[\"clin_size_long_diam_mm\"]\n",
    "    df[\"lesion_shape_index\"] = df[\"tbp_lv_areaMM2\"] / (df[\"tbp_lv_perimeterMM\"] ** 2)\n",
    "    df[\"hue_contrast\"] = (df[\"tbp_lv_H\"] - df[\"tbp_lv_Hext\"]).abs()\n",
    "    df[\"luminance_contrast\"] = (df[\"tbp_lv_L\"] - df[\"tbp_lv_Lext\"]).abs()\n",
    "    df[\"lesion_color_difference\"] = np.sqrt(df[\"tbp_lv_deltaA\"] ** 2 + df[\"tbp_lv_deltaB\"] ** 2 + df[\"tbp_lv_deltaL\"] ** 2)\n",
    "    df[\"border_complexity\"] = df[\"tbp_lv_norm_border\"] + df[\"tbp_lv_symm_2axis\"]\n",
    "    df[\"color_uniformity\"] = df[\"tbp_lv_color_std_mean\"] / df[\"tbp_lv_radial_color_std_max\"]\n",
    "    df[\"3d_position_distance\"] = np.sqrt(df[\"tbp_lv_x\"] ** 2 + df[\"tbp_lv_y\"] ** 2 + df[\"tbp_lv_z\"] ** 2) \n",
    "    df[\"perimeter_to_area_ratio\"] = df[\"tbp_lv_perimeterMM\"] / df[\"tbp_lv_areaMM2\"]\n",
    "    df[\"lesion_visibility_score\"] = df[\"tbp_lv_deltaLBnorm\"] + df[\"tbp_lv_norm_color\"]\n",
    "    df[\"combined_anatomical_site\"] = df[\"anatom_site_general\"] + \"_\" + df[\"tbp_lv_location\"]\n",
    "    df[\"symmetry_border_consistency\"] = df[\"tbp_lv_symm_2axis\"] * df[\"tbp_lv_norm_border\"]\n",
    "    df[\"color_consistency\"] = df[\"tbp_lv_stdL\"] / df[\"tbp_lv_Lext\"]\n",
    "    \n",
    "    df[\"size_age_interaction\"] = df[\"clin_size_long_diam_mm\"] * df[\"age_approx\"]\n",
    "    df[\"hue_color_std_interaction\"] = df[\"tbp_lv_H\"] * df[\"tbp_lv_color_std_mean\"]\n",
    "    df[\"lesion_severity_index\"] = (df[\"tbp_lv_norm_border\"] + df[\"tbp_lv_norm_color\"] + df[\"tbp_lv_eccentricity\"]) / 3\n",
    "    df[\"shape_complexity_index\"] = df[\"border_complexity\"] + df[\"lesion_shape_index\"]\n",
    "    df[\"color_contrast_index\"] = df[\"tbp_lv_deltaA\"] + df[\"tbp_lv_deltaB\"] + df[\"tbp_lv_deltaL\"] + df[\"tbp_lv_deltaLBnorm\"]\n",
    "    df[\"log_lesion_area\"] = np.log(df[\"tbp_lv_areaMM2\"] + 1)\n",
    "    df[\"normalized_lesion_size\"] = df[\"clin_size_long_diam_mm\"] / df[\"age_approx\"]\n",
    "    df[\"mean_hue_difference\"] = (df[\"tbp_lv_H\"] + df[\"tbp_lv_Hext\"]) / 2\n",
    "    df[\"std_dev_contrast\"] = np.sqrt((df[\"tbp_lv_deltaA\"] ** 2 + df[\"tbp_lv_deltaB\"] ** 2 + df[\"tbp_lv_deltaL\"] ** 2) / 3)\n",
    "    df[\"color_shape_composite_index\"] = (df[\"tbp_lv_color_std_mean\"] + df[\"tbp_lv_area_perim_ratio\"] + df[\"tbp_lv_symm_2axis\"]) / 3\n",
    "    df[\"3d_lesion_orientation\"] = np.arctan2(df_train[\"tbp_lv_y\"], df_train[\"tbp_lv_x\"])\n",
    "    df[\"overall_color_difference\"] = (df[\"tbp_lv_deltaA\"] + df[\"tbp_lv_deltaB\"] + df[\"tbp_lv_deltaL\"]) / 3\n",
    "    df[\"symmetry_perimeter_interaction\"] = df[\"tbp_lv_symm_2axis\"] * df[\"tbp_lv_perimeterMM\"]\n",
    "    df[\"comprehensive_lesion_index\"] = (df[\"tbp_lv_area_perim_ratio\"] + df[\"tbp_lv_eccentricity\"] + df[\"tbp_lv_norm_color\"] + df[\"tbp_lv_symm_2axis\"]) / 4\n",
    "\n",
    "    # Taken from: https://www.kaggle.com/code/dschettler8845/isic-detect-skin-cancer-let-s-learn-together\n",
    "    df[\"color_variance_ratio\"] = df[\"tbp_lv_color_std_mean\"] / df[\"tbp_lv_stdLExt\"]\n",
    "    df[\"border_color_interaction\"] = df[\"tbp_lv_norm_border\"] * df[\"tbp_lv_norm_color\"]\n",
    "    df[\"size_color_contrast_ratio\"] = df[\"clin_size_long_diam_mm\"] / df[\"tbp_lv_deltaLBnorm\"]\n",
    "    df[\"age_normalized_nevi_confidence\"] = df[\"tbp_lv_nevi_confidence\"] / df[\"age_approx\"]\n",
    "    df[\"color_asymmetry_index\"] = df[\"tbp_lv_radial_color_std_max\"] * df[\"tbp_lv_symm_2axis\"]\n",
    "    df[\"3d_volume_approximation\"] = df[\"tbp_lv_areaMM2\"] * np.sqrt(df[\"tbp_lv_x\"]**2 + df[\"tbp_lv_y\"]**2 + df[\"tbp_lv_z\"]**2)\n",
    "    df[\"color_range\"] = (df[\"tbp_lv_L\"] - df[\"tbp_lv_Lext\"]).abs() + (df[\"tbp_lv_A\"] - df[\"tbp_lv_Aext\"]).abs() + (df[\"tbp_lv_B\"] - df[\"tbp_lv_Bext\"]).abs()\n",
    "    df[\"shape_color_consistency\"] = df[\"tbp_lv_eccentricity\"] * df[\"tbp_lv_color_std_mean\"]\n",
    "    df[\"border_length_ratio\"] = df[\"tbp_lv_perimeterMM\"] / (2 * np.pi * np.sqrt(df[\"tbp_lv_areaMM2\"] / np.pi))\n",
    "    df[\"age_size_symmetry_index\"] = df[\"age_approx\"] * df[\"clin_size_long_diam_mm\"] * df[\"tbp_lv_symm_2axis\"]\n",
    "    # Until here.\n",
    "    \n",
    "    new_num_cols = [\n",
    "        \"lesion_size_ratio\", \"lesion_shape_index\", \"hue_contrast\",\n",
    "        \"luminance_contrast\", \"lesion_color_difference\", \"border_complexity\",\n",
    "        \"color_uniformity\", \"3d_position_distance\", \"perimeter_to_area_ratio\",\n",
    "        \"lesion_visibility_score\", \"symmetry_border_consistency\", \"color_consistency\",\n",
    "\n",
    "        \"size_age_interaction\", \"hue_color_std_interaction\", \"lesion_severity_index\", \n",
    "        \"shape_complexity_index\", \"color_contrast_index\", \"log_lesion_area\",\n",
    "        \"normalized_lesion_size\", \"mean_hue_difference\", \"std_dev_contrast\",\n",
    "        \"color_shape_composite_index\", \"3d_lesion_orientation\", \"overall_color_difference\",\n",
    "        \"symmetry_perimeter_interaction\", \"comprehensive_lesion_index\",\n",
    "        \n",
    "        \"color_variance_ratio\", \"border_color_interaction\", \"size_color_contrast_ratio\",\n",
    "        \"age_normalized_nevi_confidence\", \"color_asymmetry_index\", \"3d_volume_approximation\",\n",
    "        \"color_range\", \"shape_color_consistency\", \"border_length_ratio\", \"age_size_symmetry_index\",\n",
    "    ]\n",
    "    new_cat_cols = [\"combined_anatomical_site\"]\n",
    "    return df, new_num_cols, new_cat_cols\n",
    "\n",
    "num_cols = [\n",
    "    'age_approx', 'clin_size_long_diam_mm', 'tbp_lv_A', 'tbp_lv_Aext', 'tbp_lv_B', 'tbp_lv_Bext', \n",
    "    'tbp_lv_C', 'tbp_lv_Cext', 'tbp_lv_H', 'tbp_lv_Hext', 'tbp_lv_L', \n",
    "    'tbp_lv_Lext', 'tbp_lv_areaMM2', 'tbp_lv_area_perim_ratio', 'tbp_lv_color_std_mean', \n",
    "    'tbp_lv_deltaA', 'tbp_lv_deltaB', 'tbp_lv_deltaL', 'tbp_lv_deltaLB',\n",
    "    'tbp_lv_deltaLBnorm', 'tbp_lv_eccentricity', 'tbp_lv_minorAxisMM',\n",
    "    'tbp_lv_nevi_confidence', 'tbp_lv_norm_border', 'tbp_lv_norm_color',\n",
    "    'tbp_lv_perimeterMM', 'tbp_lv_radial_color_std_max', 'tbp_lv_stdL',\n",
    "    'tbp_lv_stdLExt', 'tbp_lv_symm_2axis', 'tbp_lv_symm_2axis_angle',\n",
    "    'tbp_lv_x', 'tbp_lv_y', 'tbp_lv_z',\n",
    "]\n",
    "df_train[num_cols] = df_train[num_cols].fillna(df_train[num_cols].median())\n",
    "df_test[num_cols] = df_test[num_cols].fillna(df_train[num_cols].median())\n",
    "df_train, new_num_cols, new_cat_cols = feature_engineering(df_train.copy())\n",
    "df_test, _, _ = feature_engineering(df_test.copy())\n",
    "num_cols += new_num_cols\n",
    "\n",
    "# anatom_site_general\n",
    "cat_cols = [\"sex\", \"tbp_tile_type\", \"tbp_lv_location\", \"tbp_lv_location_simple\"] + new_cat_cols\n",
    "train_cols = num_cols + cat_cols\n",
    "\n",
    "df_eff = pd.read_csv(\"/kaggle/input/isic-inference-effnetv1b0-for-training-data/train_effnetv1b0.csv\")\n",
    "df_eff = df_eff[[\"target_effnetv1b0\"]]\n",
    "\n",
    "df_eva = pd.read_csv(\"/kaggle/input/isic-inference-eva02-for-training-data/train_eva02.csv\")\n",
    "df_eva = df_eva[[\"target_eva02\"]]\n",
    "\n",
    "df_image_3 = pd.read_csv(\"/kaggle/input/isic-2024-pl-submission-script-and-preds/train_preds.csv\")\n",
    "\n",
    "df_train[\"target_effnetv1b0\"] = df_eff[\"target_effnetv1b0\"]\n",
    "df_train[\"target_eva02\"] = df_eva[\"target_eva02\"]\n",
    "df_train[\"target_3\"] = df_image_3[\"pred\"]\n",
    "\n",
    "train_cols += [\"target_effnetv1b0\",\"target_eva02\", \"target_3\"]\n",
    "\n",
    "category_encoder = OrdinalEncoder(\n",
    "    categories='auto',\n",
    "    dtype=int,\n",
    "    handle_unknown='use_encoded_value',\n",
    "    unknown_value=-2,\n",
    "    encoded_missing_value=-1,\n",
    ")\n",
    "\n",
    "X_cat = category_encoder.fit_transform(df_train[cat_cols])\n",
    "for c, cat_col in enumerate(cat_cols):\n",
    "    df_train[cat_col] = X_cat[:, c]"
   ]
  },
  {
   "cell_type": "markdown",
   "id": "04f6b559",
   "metadata": {
    "papermill": {
     "duration": 0.008595,
     "end_time": "2024-07-20T11:40:39.639612",
     "exception": false,
     "start_time": "2024-07-20T11:40:39.631017",
     "status": "completed"
    },
    "tags": []
   },
   "source": [
    "# CV Setup"
   ]
  },
  {
   "cell_type": "code",
   "execution_count": 7,
   "id": "9d31872f",
   "metadata": {
    "execution": {
     "iopub.execute_input": "2024-07-20T11:40:39.658011Z",
     "iopub.status.busy": "2024-07-20T11:40:39.657650Z",
     "iopub.status.idle": "2024-07-20T11:40:41.863538Z",
     "shell.execute_reply": "2024-07-20T11:40:41.862770Z"
    },
    "papermill": {
     "duration": 2.21782,
     "end_time": "2024-07-20T11:40:41.865820",
     "exception": false,
     "start_time": "2024-07-20T11:40:39.648000",
     "status": "completed"
    },
    "tags": []
   },
   "outputs": [],
   "source": [
    "N_SPLITS = 5\n",
    "gkf = StratifiedGroupKFold(n_splits=N_SPLITS, shuffle=True, random_state=42)\n",
    "\n",
    "if SUBSAMPLE:\n",
    "    df_pos = df_train[df_train[\"target\"] == 1]\n",
    "    df_neg = df_train[df_train[\"target\"] == 0]\n",
    "    df_neg = df_neg.sample(frac=SUBSAMPLE_RATIO, random_state=42)\n",
    "    df_train = pd.concat([df_pos, df_neg]).sample(frac=1.0, random_state=42).reset_index(drop=True)    \n",
    "\n",
    "df_train[\"fold\"] = -1\n",
    "for idx, (train_idx, val_idx) in enumerate(gkf.split(df_train, df_train[\"target\"], groups=df_train[\"patient_id\"])):\n",
    "    df_train.loc[val_idx, \"fold\"] = idx"
   ]
  },
  {
   "cell_type": "markdown",
   "id": "8f80f622",
   "metadata": {
    "papermill": {
     "duration": 0.008744,
     "end_time": "2024-07-20T11:40:41.883462",
     "exception": false,
     "start_time": "2024-07-20T11:40:41.874718",
     "status": "completed"
    },
    "tags": []
   },
   "source": [
    "# Competition Metric"
   ]
  },
  {
   "cell_type": "code",
   "execution_count": 8,
   "id": "71b31000",
   "metadata": {
    "execution": {
     "iopub.execute_input": "2024-07-20T11:40:41.902119Z",
     "iopub.status.busy": "2024-07-20T11:40:41.901815Z",
     "iopub.status.idle": "2024-07-20T11:40:41.910078Z",
     "shell.execute_reply": "2024-07-20T11:40:41.909242Z"
    },
    "papermill": {
     "duration": 0.019966,
     "end_time": "2024-07-20T11:40:41.912066",
     "exception": false,
     "start_time": "2024-07-20T11:40:41.892100",
     "status": "completed"
    },
    "tags": []
   },
   "outputs": [],
   "source": [
    "def comp_score(solution: pd.DataFrame, submission: pd.DataFrame, row_id_column_name: str, min_tpr: float=0.80):\n",
    "    v_gt = abs(np.asarray(solution.values)-1)\n",
    "    v_pred = np.array([1.0 - x for x in submission.values])\n",
    "    max_fpr = abs(1-min_tpr)\n",
    "    partial_auc_scaled = roc_auc_score(v_gt, v_pred, max_fpr=max_fpr)\n",
    "    # change scale from [0.5, 1.0] to [0.5 * max_fpr**2, max_fpr]\n",
    "    # https://math.stackexchange.com/questions/914823/shift-numbers-into-a-different-range\n",
    "    partial_auc = 0.5 * max_fpr**2 + (max_fpr - 0.5 * max_fpr**2) / (1.0 - 0.5) * (partial_auc_scaled - 0.5)\n",
    "    return partial_auc\n",
    "\n",
    "def custom_lgbm_metric(y_true, y_hat):\n",
    "    # TODO: Refactor with the above.\n",
    "    min_tpr = 0.80\n",
    "    v_gt = abs(y_true-1)\n",
    "    v_pred = np.array([1.0 - x for x in y_hat])\n",
    "    max_fpr = abs(1-min_tpr)\n",
    "    partial_auc_scaled = roc_auc_score(v_gt, v_pred, max_fpr=max_fpr)\n",
    "    # change scale from [0.5, 1.0] to [0.5 * max_fpr**2, max_fpr]\n",
    "    # https://math.stackexchange.com/questions/914823/shift-numbers-into-a-different-range\n",
    "    partial_auc = 0.5 * max_fpr**2 + (max_fpr - 0.5 * max_fpr**2) / (1.0 - 0.5) * (partial_auc_scaled - 0.5)\n",
    "    return \"pauc80\", partial_auc, True"
   ]
  },
  {
   "cell_type": "markdown",
   "id": "1c1efad4",
   "metadata": {
    "papermill": {
     "duration": 0.008499,
     "end_time": "2024-07-20T11:40:41.929470",
     "exception": false,
     "start_time": "2024-07-20T11:40:41.920971",
     "status": "completed"
    },
    "tags": []
   },
   "source": [
    "# LGBM Model"
   ]
  },
  {
   "cell_type": "code",
   "execution_count": 9,
   "id": "91478bdd",
   "metadata": {
    "execution": {
     "iopub.execute_input": "2024-07-20T11:40:41.948284Z",
     "iopub.status.busy": "2024-07-20T11:40:41.947978Z",
     "iopub.status.idle": "2024-07-20T11:40:41.957657Z",
     "shell.execute_reply": "2024-07-20T11:40:41.956688Z"
    },
    "papermill": {
     "duration": 0.02142,
     "end_time": "2024-07-20T11:40:41.959619",
     "exception": false,
     "start_time": "2024-07-20T11:40:41.938199",
     "status": "completed"
    },
    "tags": []
   },
   "outputs": [],
   "source": [
    "def objective(trial):\n",
    "    param = {\n",
    "        \"objective\": \"binary\",\n",
    "        # \"metric\": \"custom\",\n",
    "        \"verbosity\": -1,\n",
    "        \"boosting_type\": \"gbdt\",\n",
    "        \"lambda_l1\": trial.suggest_float(\"lambda_l1\", 1e-8, 10.0, log=True),\n",
    "        \"lambda_l2\": trial.suggest_float(\"lambda_l2\", 1e-8, 10.0, log=True),\n",
    "        \"num_leaves\": trial.suggest_int(\"num_leaves\", 2, 256),\n",
    "        \"feature_fraction\": trial.suggest_float(\"feature_fraction\", 0.4, 1.0),\n",
    "        \"bagging_fraction\": trial.suggest_float(\"bagging_fraction\", 0.4, 1.0),\n",
    "        \"bagging_freq\": trial.suggest_int(\"bagging_freq\", 1, 7),\n",
    "        \"min_child_samples\": trial.suggest_int(\"min_child_samples\", 5, 100),\n",
    "        \"device\": \"gpu\"\n",
    "    }\n",
    "    scores = []\n",
    "    for fold in range(N_SPLITS):\n",
    "        _df_train = df_train[df_train[\"fold\"] != fold].reset_index(drop=True)\n",
    "        _df_valid = df_train[df_train[\"fold\"] == fold].reset_index(drop=True)\n",
    "        dtrain = lgb.Dataset(_df_train[train_cols], label=_df_train[\"target\"])\n",
    "        gbm = lgb.train(param, dtrain)\n",
    "        preds = gbm.predict(_df_valid[train_cols])\n",
    "        score = comp_score(_df_valid[[\"target\"]], pd.DataFrame(preds, columns=[\"prediction\"]), \"\")\n",
    "        scores.append(score)\n",
    "    return np.mean(scores)"
   ]
  },
  {
   "cell_type": "code",
   "execution_count": 10,
   "id": "64917787",
   "metadata": {
    "execution": {
     "iopub.execute_input": "2024-07-20T11:40:41.978492Z",
     "iopub.status.busy": "2024-07-20T11:40:41.978144Z",
     "iopub.status.idle": "2024-07-20T11:40:41.983708Z",
     "shell.execute_reply": "2024-07-20T11:40:41.982896Z"
    },
    "papermill": {
     "duration": 0.017401,
     "end_time": "2024-07-20T11:40:41.985748",
     "exception": false,
     "start_time": "2024-07-20T11:40:41.968347",
     "status": "completed"
    },
    "tags": []
   },
   "outputs": [],
   "source": [
    "if OPTIMIZE_OPTUNA:\n",
    "    study = optuna.create_study(direction=\"maximize\")\n",
    "    study.optimize(objective, n_trials=20)\n",
    "\n",
    "    print(\"Number of finished trials: {}\".format(len(study.trials)))\n",
    "\n",
    "    print(\"Best trial:\")\n",
    "    trial = study.best_trial\n",
    "\n",
    "    print(\"  Value: {}\".format(trial.value))\n",
    "\n",
    "    print(\"  Params: \")\n",
    "    for key, value in trial.params.items():\n",
    "        print(\"    {}: {}\".format(key, value))\n"
   ]
  },
  {
   "cell_type": "code",
   "execution_count": 11,
   "id": "0caf1784",
   "metadata": {
    "execution": {
     "iopub.execute_input": "2024-07-20T11:40:42.005757Z",
     "iopub.status.busy": "2024-07-20T11:40:42.005466Z",
     "iopub.status.idle": "2024-07-20T11:44:25.865330Z",
     "shell.execute_reply": "2024-07-20T11:44:25.864365Z"
    },
    "papermill": {
     "duration": 223.881857,
     "end_time": "2024-07-20T11:44:25.877273",
     "exception": false,
     "start_time": "2024-07-20T11:40:41.995416",
     "status": "completed"
    },
    "tags": []
   },
   "outputs": [
    {
     "name": "stderr",
     "output_type": "stream",
     "text": [
      "1 warning generated.\n",
      "1 warning generated.\n",
      "1 warning generated.\n",
      "1 warning generated.\n",
      "1 warning generated.\n",
      "1 warning generated.\n",
      "1 warning generated.\n",
      "1 warning generated.\n",
      "1 warning generated.\n",
      "1 warning generated.\n",
      "1 warning generated.\n",
      "1 warning generated.\n",
      "1 warning generated.\n",
      "1 warning generated.\n",
      "1 warning generated.\n",
      "1 warning generated.\n",
      "1 warning generated.\n",
      "1 warning generated.\n",
      "1 warning generated.\n",
      "1 warning generated.\n",
      "1 warning generated.\n",
      "1 warning generated.\n",
      "1 warning generated.\n",
      "1 warning generated.\n",
      "1 warning generated.\n",
      "1 warning generated.\n",
      "1 warning generated.\n",
      "1 warning generated.\n",
      "1 warning generated.\n",
      "1 warning generated.\n",
      "1 warning generated.\n",
      "1 warning generated.\n",
      "1 warning generated.\n"
     ]
    },
    {
     "name": "stdout",
     "output_type": "stream",
     "text": [
      "fold: 0 - Partial AUC Score: 0.18157\n",
      "fold: 1 - Partial AUC Score: 0.18857\n",
      "fold: 2 - Partial AUC Score: 0.19461\n",
      "fold: 3 - Partial AUC Score: 0.17839\n",
      "fold: 4 - Partial AUC Score: 0.18920\n"
     ]
    }
   ],
   "source": [
    "# lgb_params = {\n",
    "#     'objective': 'binary',\n",
    "#     # \"random_state\": 42,\n",
    "#     \"n_estimators\": 1500,\n",
    "#     'learning_rate': 0.001,\n",
    "#     'bagging_freq': 1,\n",
    "#     'pos_bagging_fraction': 0.75,\n",
    "#     'neg_bagging_fraction': 0.05,\n",
    "#     'feature_fraction': 0.6,\n",
    "#     'lambda_l1': 0.2,\n",
    "#     'lambda_l2': 0.7,\n",
    "#     'num_leaves': 35,\n",
    "#     \"min_data_in_leaf\": 50,\n",
    "#     \"verbosity\": -1,\n",
    "#     \"device\": \"gpu\"\n",
    "#     # \"extra_trees\": True\n",
    "# }\n",
    "# new_params =  {\n",
    "#     \"objective\": \"binary\",\n",
    "#     \"verbosity\": -1,\n",
    "#     \"boosting_type\": \"gbdt\",\n",
    "#     \"n_estimators\": 2000,\n",
    "#     'learning_rate': 0.03,    \n",
    "#     'lambda_l1': 0.0004681884533249742, \n",
    "#     'lambda_l2': 8.765240856362274, \n",
    "#     'num_leaves': 136, \n",
    "#     'feature_fraction': 0.5392005444882538, \n",
    "#     'bagging_fraction': 0.9577412548866563, \n",
    "#     'bagging_freq': 6,\n",
    "#     'min_child_samples': 60,\n",
    "#     \"device\": \"cpu\"\n",
    "# }\n",
    "new_params = {\n",
    "    \"objective\": \"binary\",\n",
    "    \"verbosity\": -1,\n",
    "    \"boosting_type\": \"gbdt\",\n",
    "    \"n_estimators\": 200,\n",
    "    'learning_rate': 0.05,    \n",
    "    'lambda_l1': 0.0004681884533249742, \n",
    "    'lambda_l2': 8.765240856362274, \n",
    "    'num_leaves': 136, \n",
    "    'feature_fraction': 0.5392005444882538, \n",
    "    'bagging_fraction': 0.9577412548866563, \n",
    "    'bagging_freq': 6,\n",
    "    'min_child_samples': 60,\n",
    "    \"device\": \"gpu\"\n",
    "}\n",
    "lgb_scores = []\n",
    "lgb_models = []\n",
    "oof_df = pd.DataFrame()\n",
    "for fold in range(N_SPLITS):\n",
    "    _df_train = df_train[df_train[\"fold\"] != fold].reset_index(drop=True)\n",
    "    _df_valid = df_train[df_train[\"fold\"] == fold].reset_index(drop=True)\n",
    "    # model = lgb.LGBMClassifier(**new_params)\n",
    "    model = VotingClassifier([(f\"lgb_{i}\", lgb.LGBMClassifier(random_state=i, **new_params)) for i in range(3)], voting=\"soft\")\n",
    "    model.fit(_df_train[train_cols], _df_train[\"target\"])\n",
    "    preds = model.predict_proba(_df_valid[train_cols])[:, 1]\n",
    "    score = comp_score(_df_valid[[\"target\"]], pd.DataFrame(preds, columns=[\"prediction\"]), \"\")\n",
    "    print(f\"fold: {fold} - Partial AUC Score: {score:.5f}\")\n",
    "    lgb_models.append(model)\n",
    "    oof_single = _df_valid[[\"isic_id\", \"target\"]].copy()\n",
    "    oof_single[\"pred\"] = preds\n",
    "    oof_df = pd.concat([oof_df, oof_single])"
   ]
  },
  {
   "cell_type": "code",
   "execution_count": 12,
   "id": "7dd58196",
   "metadata": {
    "execution": {
     "iopub.execute_input": "2024-07-20T11:44:25.899422Z",
     "iopub.status.busy": "2024-07-20T11:44:25.899107Z",
     "iopub.status.idle": "2024-07-20T11:44:26.106634Z",
     "shell.execute_reply": "2024-07-20T11:44:26.105552Z"
    },
    "papermill": {
     "duration": 0.220774,
     "end_time": "2024-07-20T11:44:26.108628",
     "exception": false,
     "start_time": "2024-07-20T11:44:25.887854",
     "status": "completed"
    },
    "tags": []
   },
   "outputs": [
    {
     "name": "stdout",
     "output_type": "stream",
     "text": [
      "LGBM Score: 0.18528\n"
     ]
    }
   ],
   "source": [
    "lgbm_score = comp_score(oof_df[\"target\"], oof_df[\"pred\"], \"\")\n",
    "print(f\"LGBM Score: {lgbm_score:.5f}\")"
   ]
  },
  {
   "cell_type": "markdown",
   "id": "b1826402",
   "metadata": {
    "papermill": {
     "duration": 0.010405,
     "end_time": "2024-07-20T11:44:26.129969",
     "exception": false,
     "start_time": "2024-07-20T11:44:26.119564",
     "status": "completed"
    },
    "tags": []
   },
   "source": [
    "# LGBM Feature Importances"
   ]
  },
  {
   "cell_type": "code",
   "execution_count": 13,
   "id": "23c9aae4",
   "metadata": {
    "execution": {
     "iopub.execute_input": "2024-07-20T11:44:26.152721Z",
     "iopub.status.busy": "2024-07-20T11:44:26.152418Z",
     "iopub.status.idle": "2024-07-20T11:44:26.158051Z",
     "shell.execute_reply": "2024-07-20T11:44:26.157230Z"
    },
    "papermill": {
     "duration": 0.019132,
     "end_time": "2024-07-20T11:44:26.159988",
     "exception": false,
     "start_time": "2024-07-20T11:44:26.140856",
     "status": "completed"
    },
    "tags": []
   },
   "outputs": [],
   "source": [
    "if DISPLAY_FEATURE_IMPORTANCE:\n",
    "    # Make sure that this is a single model, not voting classifier. Will handle that later on.\n",
    "    importances = np.mean([model.feature_importances_ for model in lgb_models], 0)\n",
    "    df_imp = pd.DataFrame({\"feature\": model.feature_name_, \"importance\": importances}).sort_values(\"importance\").reset_index(drop=True)\n",
    "\n",
    "    plt.figure(figsize=(16, 12))\n",
    "    plt.barh(df_imp[\"feature\"], df_imp[\"importance\"])\n",
    "    plt.show()"
   ]
  },
  {
   "cell_type": "markdown",
   "id": "afaa25a5",
   "metadata": {
    "papermill": {
     "duration": 0.010413,
     "end_time": "2024-07-20T11:44:26.180979",
     "exception": false,
     "start_time": "2024-07-20T11:44:26.170566",
     "status": "completed"
    },
    "tags": []
   },
   "source": [
    "# Catboost Model"
   ]
  },
  {
   "cell_type": "code",
   "execution_count": 14,
   "id": "f9e54406",
   "metadata": {
    "execution": {
     "iopub.execute_input": "2024-07-20T11:44:26.203301Z",
     "iopub.status.busy": "2024-07-20T11:44:26.203033Z",
     "iopub.status.idle": "2024-07-20T11:44:26.212535Z",
     "shell.execute_reply": "2024-07-20T11:44:26.211709Z"
    },
    "papermill": {
     "duration": 0.022803,
     "end_time": "2024-07-20T11:44:26.214283",
     "exception": false,
     "start_time": "2024-07-20T11:44:26.191480",
     "status": "completed"
    },
    "tags": []
   },
   "outputs": [],
   "source": [
    "def objective(trial):\n",
    "    param = {\n",
    "        \"objective\": trial.suggest_categorical(\"objective\", [\"Logloss\", \"CrossEntropy\"]),\n",
    "        \"colsample_bylevel\": trial.suggest_float(\"colsample_bylevel\", 0.01, 0.1),\n",
    "        \"depth\": trial.suggest_int(\"depth\", 1, 12),\n",
    "        \"boosting_type\": trial.suggest_categorical(\"boosting_type\", [\"Ordered\", \"Plain\"]),\n",
    "        \"bootstrap_type\": trial.suggest_categorical(\n",
    "            \"bootstrap_type\", [\"Bayesian\", \"Bernoulli\", \"MVS\"]\n",
    "        ),\n",
    "        # \"task_type\": \"GPU\",\n",
    "        # \"used_ram_limit\": \"3gb\",\n",
    "    }\n",
    "    if param[\"bootstrap_type\"] == \"Bayesian\":\n",
    "        param[\"bagging_temperature\"] = trial.suggest_float(\"bagging_temperature\", 0, 10)\n",
    "    elif param[\"bootstrap_type\"] == \"Bernoulli\":\n",
    "        param[\"subsample\"] = trial.suggest_float(\"subsample\", 0.1, 1)\n",
    "\n",
    "    scores = []\n",
    "    for fold in range(N_SPLITS):\n",
    "        _df_train = df_train[df_train[\"fold\"] != fold].reset_index(drop=True)\n",
    "        _df_valid = df_train[df_train[\"fold\"] == fold].reset_index(drop=True)\n",
    "        gbm = cb.CatBoostClassifier(**param)\n",
    "        gbm.fit(_df_train[train_cols], _df_train[\"target\"], eval_set=[(_df_valid[train_cols], _df_valid[\"target\"])], verbose=0, early_stopping_rounds=100)\n",
    "        preds = gbm.predict(_df_valid[train_cols])\n",
    "        score = comp_score(_df_valid[[\"target\"]], pd.DataFrame(preds, columns=[\"prediction\"]), \"\")\n",
    "        scores.append(score)\n",
    "    return np.mean(scores)"
   ]
  },
  {
   "cell_type": "code",
   "execution_count": 15,
   "id": "b5add188",
   "metadata": {
    "execution": {
     "iopub.execute_input": "2024-07-20T11:44:26.236923Z",
     "iopub.status.busy": "2024-07-20T11:44:26.236660Z",
     "iopub.status.idle": "2024-07-20T11:44:26.242001Z",
     "shell.execute_reply": "2024-07-20T11:44:26.241194Z"
    },
    "papermill": {
     "duration": 0.018607,
     "end_time": "2024-07-20T11:44:26.243713",
     "exception": false,
     "start_time": "2024-07-20T11:44:26.225106",
     "status": "completed"
    },
    "tags": []
   },
   "outputs": [],
   "source": [
    "if OPTIMIZE_OPTUNA:\n",
    "    study = optuna.create_study(direction=\"maximize\")\n",
    "    study.optimize(objective, n_trials=20, timeout=600)\n",
    "    print(\"Number of finished trials: {}\".format(len(study.trials)))\n",
    "    print(\"Best trial:\")\n",
    "    trial = study.best_trial\n",
    "    print(\"  Value: {}\".format(trial.value))\n",
    "    print(\"  Params: \")\n",
    "    for key, value in trial.params.items():\n",
    "        print(\"    {}: {}\".format(key, value))"
   ]
  },
  {
   "cell_type": "code",
   "execution_count": 16,
   "id": "99d7a082",
   "metadata": {
    "execution": {
     "iopub.execute_input": "2024-07-20T11:44:26.266107Z",
     "iopub.status.busy": "2024-07-20T11:44:26.265849Z",
     "iopub.status.idle": "2024-07-20T11:50:21.480245Z",
     "shell.execute_reply": "2024-07-20T11:50:21.479266Z"
    },
    "papermill": {
     "duration": 355.243257,
     "end_time": "2024-07-20T11:50:21.497664",
     "exception": false,
     "start_time": "2024-07-20T11:44:26.254407",
     "status": "completed"
    },
    "tags": []
   },
   "outputs": [
    {
     "name": "stdout",
     "output_type": "stream",
     "text": [
      "fold: 0 - Partial AUC Score: 0.18130\n",
      "fold: 1 - Partial AUC Score: 0.18698\n",
      "fold: 2 - Partial AUC Score: 0.19443\n",
      "fold: 3 - Partial AUC Score: 0.17488\n",
      "fold: 4 - Partial AUC Score: 0.18994\n"
     ]
    }
   ],
   "source": [
    "cb_params = {\n",
    "    'objective': 'Logloss',\n",
    "    # \"random_state\": 42,\n",
    "    # \"colsample_bylevel\": 0.3, # 0.01, 0.1\n",
    "    \"iterations\": 400,\n",
    "    \"learning_rate\": 0.05,\n",
    "    \"cat_features\": cat_cols,\n",
    "    \"max_depth\": 8,\n",
    "    \"l2_leaf_reg\": 5,\n",
    "    \"task_type\": \"GPU\",\n",
    "    # \"scale_pos_weight\": 2,\n",
    "    \"verbose\": 0,\n",
    "}\n",
    "cb_scores = []\n",
    "cb_models = []\n",
    "for fold in range(N_SPLITS):\n",
    "    _df_train = df_train[df_train[\"fold\"] != fold].reset_index(drop=True)\n",
    "    _df_valid = df_train[df_train[\"fold\"] == fold].reset_index(drop=True)\n",
    "    # model = cb.CatBoostClassifier(**cb_params)\n",
    "    model = VotingClassifier([(f\"cb_{i}\", cb.CatBoostClassifier(random_state=i, **cb_params)) for i in range(3)], voting=\"soft\")\n",
    "    # eval_set=(_df_valid[train_cols], _df_valid[\"target\"]), early_stopping_rounds=50\n",
    "    model.fit(_df_train[train_cols], _df_train[\"target\"])\n",
    "    preds = model.predict_proba(_df_valid[train_cols])[:, 1]\n",
    "    score = comp_score(_df_valid[[\"target\"]], pd.DataFrame(preds, columns=[\"prediction\"]), \"\")\n",
    "    print(f\"fold: {fold} - Partial AUC Score: {score:.5f}\")\n",
    "    cb_scores.append(score)\n",
    "    cb_models.append(model)"
   ]
  },
  {
   "cell_type": "code",
   "execution_count": 17,
   "id": "51164b37",
   "metadata": {
    "execution": {
     "iopub.execute_input": "2024-07-20T11:50:21.522847Z",
     "iopub.status.busy": "2024-07-20T11:50:21.522032Z",
     "iopub.status.idle": "2024-07-20T11:50:21.527671Z",
     "shell.execute_reply": "2024-07-20T11:50:21.526566Z"
    },
    "papermill": {
     "duration": 0.019878,
     "end_time": "2024-07-20T11:50:21.529554",
     "exception": false,
     "start_time": "2024-07-20T11:50:21.509676",
     "status": "completed"
    },
    "tags": []
   },
   "outputs": [
    {
     "name": "stdout",
     "output_type": "stream",
     "text": [
      "CatBoost Score: 0.18551\n"
     ]
    }
   ],
   "source": [
    "cb_score = np.mean(cb_scores)\n",
    "print(f\"CatBoost Score: {cb_score:.5f}\")"
   ]
  },
  {
   "cell_type": "markdown",
   "id": "7a7af59c",
   "metadata": {
    "papermill": {
     "duration": 0.011371,
     "end_time": "2024-07-20T11:50:21.552172",
     "exception": false,
     "start_time": "2024-07-20T11:50:21.540801",
     "status": "completed"
    },
    "tags": []
   },
   "source": [
    "# CatBoost Feature Importances"
   ]
  },
  {
   "cell_type": "code",
   "execution_count": 18,
   "id": "edfe0c4a",
   "metadata": {
    "execution": {
     "iopub.execute_input": "2024-07-20T11:50:21.576220Z",
     "iopub.status.busy": "2024-07-20T11:50:21.575702Z",
     "iopub.status.idle": "2024-07-20T11:50:21.581927Z",
     "shell.execute_reply": "2024-07-20T11:50:21.581141Z"
    },
    "papermill": {
     "duration": 0.02014,
     "end_time": "2024-07-20T11:50:21.583694",
     "exception": false,
     "start_time": "2024-07-20T11:50:21.563554",
     "status": "completed"
    },
    "tags": []
   },
   "outputs": [],
   "source": [
    "if DISPLAY_FEATURE_IMPORTANCE:\n",
    "    # Same here.\n",
    "    importances = np.mean([model.feature_importances_ for model in cb_models], 0)\n",
    "    df_imp = pd.DataFrame({\"feature\": model.feature_names_, \"importance\": importances}).sort_values(\"importance\").reset_index(drop=True)\n",
    "\n",
    "    plt.figure(figsize=(16, 12))\n",
    "    plt.barh(df_imp[\"feature\"], df_imp[\"importance\"])\n",
    "    plt.show()"
   ]
  },
  {
   "cell_type": "markdown",
   "id": "e25075b6",
   "metadata": {
    "papermill": {
     "duration": 0.011221,
     "end_time": "2024-07-20T11:50:21.606177",
     "exception": false,
     "start_time": "2024-07-20T11:50:21.594956",
     "status": "completed"
    },
    "tags": []
   },
   "source": [
    "# Ensembling"
   ]
  },
  {
   "cell_type": "code",
   "execution_count": 19,
   "id": "f03626fe",
   "metadata": {
    "execution": {
     "iopub.execute_input": "2024-07-20T11:50:21.632229Z",
     "iopub.status.busy": "2024-07-20T11:50:21.631636Z",
     "iopub.status.idle": "2024-07-20T11:50:21.639954Z",
     "shell.execute_reply": "2024-07-20T11:50:21.639160Z"
    },
    "papermill": {
     "duration": 0.022886,
     "end_time": "2024-07-20T11:50:21.641831",
     "exception": false,
     "start_time": "2024-07-20T11:50:21.618945",
     "status": "completed"
    },
    "tags": []
   },
   "outputs": [],
   "source": [
    "X_cat = category_encoder.transform(df_test[cat_cols])\n",
    "for c, cat_col in enumerate(cat_cols):\n",
    "    df_test[cat_col] = X_cat[:, c]"
   ]
  },
  {
   "cell_type": "code",
   "execution_count": 20,
   "id": "48c72e84",
   "metadata": {
    "execution": {
     "iopub.execute_input": "2024-07-20T11:50:21.665725Z",
     "iopub.status.busy": "2024-07-20T11:50:21.665430Z",
     "iopub.status.idle": "2024-07-20T11:50:21.676763Z",
     "shell.execute_reply": "2024-07-20T11:50:21.676031Z"
    },
    "papermill": {
     "duration": 0.025511,
     "end_time": "2024-07-20T11:50:21.678629",
     "exception": false,
     "start_time": "2024-07-20T11:50:21.653118",
     "status": "completed"
    },
    "tags": []
   },
   "outputs": [],
   "source": [
    "df_eff = pd.read_csv(\"submission_effnetv1b0.csv\")\n",
    "df_test[\"target_effnetv1b0\"] = df_eff[\"target\"]\n",
    "\n",
    "df_eva = pd.read_csv(\"submission_eva02.csv\")\n",
    "df_test[\"target_eva02\"] = df_eva[\"target\"]\n",
    "\n",
    "df_3 = pd.read_csv(\"submission_image3.csv\")\n",
    "df_test[\"target_3\"] = df_3[\"target\"]"
   ]
  },
  {
   "cell_type": "code",
   "execution_count": 21,
   "id": "9639579c",
   "metadata": {
    "execution": {
     "iopub.execute_input": "2024-07-20T11:50:21.702824Z",
     "iopub.status.busy": "2024-07-20T11:50:21.702309Z",
     "iopub.status.idle": "2024-07-20T11:50:21.807129Z",
     "shell.execute_reply": "2024-07-20T11:50:21.806291Z"
    },
    "papermill": {
     "duration": 0.119132,
     "end_time": "2024-07-20T11:50:21.809183",
     "exception": false,
     "start_time": "2024-07-20T11:50:21.690051",
     "status": "completed"
    },
    "tags": []
   },
   "outputs": [],
   "source": [
    "lgb_preds = np.mean([model.predict_proba(df_test[train_cols])[:, 1] for model in lgb_models], 0)\n",
    "cb_preds = np.mean([model.predict_proba(df_test[train_cols])[:, 1] for model in cb_models], 0)\n",
    "preds = lgb_preds * 0.5 + cb_preds * 0.5"
   ]
  },
  {
   "cell_type": "code",
   "execution_count": 22,
   "id": "36c7bc5f",
   "metadata": {
    "execution": {
     "iopub.execute_input": "2024-07-20T11:50:21.833856Z",
     "iopub.status.busy": "2024-07-20T11:50:21.833208Z",
     "iopub.status.idle": "2024-07-20T11:50:21.850778Z",
     "shell.execute_reply": "2024-07-20T11:50:21.849944Z"
    },
    "papermill": {
     "duration": 0.031825,
     "end_time": "2024-07-20T11:50:21.852628",
     "exception": false,
     "start_time": "2024-07-20T11:50:21.820803",
     "status": "completed"
    },
    "tags": []
   },
   "outputs": [
    {
     "data": {
      "text/html": [
       "<div>\n",
       "<style scoped>\n",
       "    .dataframe tbody tr th:only-of-type {\n",
       "        vertical-align: middle;\n",
       "    }\n",
       "\n",
       "    .dataframe tbody tr th {\n",
       "        vertical-align: top;\n",
       "    }\n",
       "\n",
       "    .dataframe thead th {\n",
       "        text-align: right;\n",
       "    }\n",
       "</style>\n",
       "<table border=\"1\" class=\"dataframe\">\n",
       "  <thead>\n",
       "    <tr style=\"text-align: right;\">\n",
       "      <th></th>\n",
       "      <th>isic_id</th>\n",
       "      <th>target</th>\n",
       "    </tr>\n",
       "  </thead>\n",
       "  <tbody>\n",
       "    <tr>\n",
       "      <th>0</th>\n",
       "      <td>ISIC_0015657</td>\n",
       "      <td>0.000025</td>\n",
       "    </tr>\n",
       "    <tr>\n",
       "      <th>1</th>\n",
       "      <td>ISIC_0015729</td>\n",
       "      <td>0.000014</td>\n",
       "    </tr>\n",
       "    <tr>\n",
       "      <th>2</th>\n",
       "      <td>ISIC_0015740</td>\n",
       "      <td>0.000015</td>\n",
       "    </tr>\n",
       "  </tbody>\n",
       "</table>\n",
       "</div>"
      ],
      "text/plain": [
       "        isic_id    target\n",
       "0  ISIC_0015657  0.000025\n",
       "1  ISIC_0015729  0.000014\n",
       "2  ISIC_0015740  0.000015"
      ]
     },
     "execution_count": 22,
     "metadata": {},
     "output_type": "execute_result"
    }
   ],
   "source": [
    "df_sub = pd.read_csv(\"/kaggle/input/isic-2024-challenge/sample_submission.csv\")\n",
    "df_sub[\"target\"] = preds\n",
    "df_sub"
   ]
  },
  {
   "cell_type": "code",
   "execution_count": 23,
   "id": "14c9a526",
   "metadata": {
    "execution": {
     "iopub.execute_input": "2024-07-20T11:50:21.877499Z",
     "iopub.status.busy": "2024-07-20T11:50:21.877018Z",
     "iopub.status.idle": "2024-07-20T11:50:21.882562Z",
     "shell.execute_reply": "2024-07-20T11:50:21.881750Z"
    },
    "papermill": {
     "duration": 0.020053,
     "end_time": "2024-07-20T11:50:21.884472",
     "exception": false,
     "start_time": "2024-07-20T11:50:21.864419",
     "status": "completed"
    },
    "tags": []
   },
   "outputs": [],
   "source": [
    "df_sub.to_csv(\"submission.csv\", index=False)"
   ]
  }
 ],
 "metadata": {
  "kaggle": {
   "accelerator": "gpu",
   "dataSources": [
    {
     "databundleVersionId": 9094797,
     "sourceId": 63056,
     "sourceType": "competition"
    },
    {
     "datasetId": 5406640,
     "sourceId": 8982084,
     "sourceType": "datasetVersion"
    },
    {
     "datasetId": 5415918,
     "sourceId": 8991790,
     "sourceType": "datasetVersion"
    },
    {
     "sourceId": 186147615,
     "sourceType": "kernelVersion"
    },
    {
     "sourceId": 187730674,
     "sourceType": "kernelVersion"
    },
    {
     "sourceId": 188543089,
     "sourceType": "kernelVersion"
    },
    {
     "sourceId": 188543756,
     "sourceType": "kernelVersion"
    },
    {
     "sourceId": 188602899,
     "sourceType": "kernelVersion"
    },
    {
     "sourceId": 188603204,
     "sourceType": "kernelVersion"
    }
   ],
   "dockerImageVersionId": 30733,
   "isGpuEnabled": true,
   "isInternetEnabled": false,
   "language": "python",
   "sourceType": "notebook"
  },
  "kernelspec": {
   "display_name": "Python 3",
   "language": "python",
   "name": "python3"
  },
  "language_info": {
   "codemirror_mode": {
    "name": "ipython",
    "version": 3
   },
   "file_extension": ".py",
   "mimetype": "text/x-python",
   "name": "python",
   "nbconvert_exporter": "python",
   "pygments_lexer": "ipython3",
   "version": "3.10.13"
  },
  "papermill": {
   "default_parameters": {},
   "duration": 654.540678,
   "end_time": "2024-07-20T11:50:22.717115",
   "environment_variables": {},
   "exception": null,
   "input_path": "__notebook__.ipynb",
   "output_path": "__notebook__.ipynb",
   "parameters": {},
   "start_time": "2024-07-20T11:39:28.176437",
   "version": "2.5.0"
  }
 },
 "nbformat": 4,
 "nbformat_minor": 5
}
